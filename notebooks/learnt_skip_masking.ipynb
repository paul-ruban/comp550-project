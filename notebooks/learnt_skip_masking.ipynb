{
 "cells": [
  {
   "cell_type": "code",
   "execution_count": null,
   "metadata": {},
   "outputs": [],
   "source": [
    "import sys\n",
    "sys.path.append(\"../\")\n",
    "from copy import deepcopy\n",
    "\n",
    "import torch\n",
    "import logging\n",
    "from torch.utils.data import DataLoader\n",
    "\n",
    "import transformers\n",
    "from transformers import AutoTokenizer, AutoModel\n",
    "\n",
    "from src.models.rnn_model import RNN\n",
    "from src.models.learned_skip_masking import (\n",
    "    DeepSkipAugmenter,\n",
    "    WeightedMaskClassificationLoss,\n",
    "    DeepSkipAugmenterTrainer\n",
    ")\n",
    "from src.data.dataio import DataFiles, Dataset, truncate_fn\n",
    "\n",
    "transformers.logging.set_verbosity_error()\n",
    "\n",
    "logger = logging.getLogger()"
   ]
  },
  {
   "cell_type": "code",
   "execution_count": null,
   "metadata": {},
   "outputs": [],
   "source": [
    "BERT_MODEL_NAME = \"distilbert-base-uncased\"\n",
    "\n",
    "tokenizer = AutoTokenizer.from_pretrained(pretrained_model_name_or_path=BERT_MODEL_NAME)\n",
    "\n",
    "train_data_files = DataFiles(\n",
    "    [\"/Users/od/Documents/Mila/COMP-550/Final Project/comp-550-project/data/articles/augmentation/train.json\"]\n",
    ")\n",
    "\n",
    "train_dataset = Dataset(train_data_files, data_format=\"json\")\n",
    "train_dataloader = DataLoader(train_dataset, batch_size=4)\n",
    "\n",
    "valid_data_files = DataFiles(\n",
    "    [\"/Users/od/Documents/Mila/COMP-550/Final Project/comp-550-project/data/articles/augmentation/validation.json\"]\n",
    ")\n",
    "valid_dataset = Dataset(valid_data_files, data_format=\"json\")\n",
    "valid_dataloader = DataLoader(valid_dataset, batch_size=4)\n"
   ]
  },
  {
   "cell_type": "code",
   "execution_count": null,
   "metadata": {},
   "outputs": [],
   "source": [
    "# data_loader = DataLoader(train_dataset, batch_size=10)\n",
    "\n",
    "bert = AutoModel.from_pretrained(BERT_MODEL_NAME)\n",
    "\n",
    "model = DeepSkipAugmenter(\n",
    "    tokenizer=AutoTokenizer.from_pretrained(BERT_MODEL_NAME),\n",
    "    masking_model=RNN(output_size=2, embeddings_layer=deepcopy(bert.embeddings.word_embeddings)),\n",
    "    unmasking_model=bert,\n",
    "    classifier=RNN(output_size=5, embeddings_layer=deepcopy(bert.embeddings.word_embeddings))\n",
    ")\n",
    "\n",
    "optimizer = torch.optim.Adam(\n",
    "    params=[{\"params\": model.masking_model.parameters()},\n",
    "            {\"params\": model.classifier.parameters()}],\n",
    "    lr=0.001        \n",
    ")\n",
    "criterion = WeightedMaskClassificationLoss()\n",
    "\n",
    "trainer = DeepSkipAugmenterTrainer(\n",
    "    model=model,\n",
    "    optimizer=optimizer,\n",
    "    criterion=criterion,\n",
    "    train_dataloader=train_dataloader,\n",
    "    val_dataloader=valid_dataloader,\n",
    "    logger=logger,\n",
    "    num_epochs=2,\n",
    "    log_interval=1\n",
    ")"
   ]
  },
  {
   "cell_type": "code",
   "execution_count": null,
   "metadata": {},
   "outputs": [],
   "source": [
    "# F1 Score\n",
    "trainer.best_f1_score"
   ]
  },
  {
   "cell_type": "code",
   "execution_count": null,
   "metadata": {},
   "outputs": [],
   "source": [
    "import os\n",
    "from src.utils.json_utils import write_to_json\n",
    "\n",
    "PATH = \"/Users/od/Documents/Mila/COMP-550/Final Project/comp-550-project/data/articles/augmentation\"\n",
    "\n",
    "with open(os.path.join(PATH, \"training_text.txt\")) as f:\n",
    "    training_text = f.readlines()\n",
    "    training_text = [i.strip() for i in training_text]\n",
    "\n",
    "with open(os.path.join(PATH, \"training_labels.txt\")) as f:\n",
    "    training_labels = f.readlines()\n",
    "    training_labels = [int(i) for i in training_labels]\n",
    "\n",
    "max(training_labels)\n"
   ]
  }
 ],
 "metadata": {
  "interpreter": {
   "hash": "15a40e11aa3c948f13537918da56f072f38172adfb7dc644365435d0134178e7"
  },
  "kernelspec": {
   "display_name": "Python 3.9.7 64-bit ('comp-550-a2-venv': conda)",
   "language": "python",
   "name": "python3"
  },
  "language_info": {
   "codemirror_mode": {
    "name": "ipython",
    "version": 3
   },
   "file_extension": ".py",
   "mimetype": "text/x-python",
   "name": "python",
   "nbconvert_exporter": "python",
   "pygments_lexer": "ipython3",
   "version": "3.8.3"
  },
  "orig_nbformat": 4
 },
 "nbformat": 4,
 "nbformat_minor": 2
}
