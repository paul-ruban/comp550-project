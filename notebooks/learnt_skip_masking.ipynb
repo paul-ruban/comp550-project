{
 "cells": [
  {
   "cell_type": "code",
   "execution_count": null,
   "metadata": {},
   "outputs": [],
   "source": [
    "import sys\n",
    "sys.path.append(\"../\")\n",
    "from functools import partial\n",
    "\n",
    "import torch\n",
    "from torch.utils.data import DataLoader\n",
    "\n",
    "import transformers\n",
    "from transformers import AutoTokenizer, AutoModelForMaskedLM\n",
    "\n",
    "from src.models.rnn_model import RNN\n",
    "from src.models.learned_skip_masking import DeepSkipAugmenter\n",
    "from src.data.dataio import DataFiles, Dataset, truncate_fn\n",
    "\n",
    "transformers.logging.set_verbosity_error()"
   ]
  },
  {
   "cell_type": "code",
   "execution_count": null,
   "metadata": {},
   "outputs": [],
   "source": [
    "BERT_MODEL_NAME = \"distilbert-base-uncased\"\n",
    "\n",
    "tokenizer = AutoTokenizer.from_pretrained(pretrained_model_name_or_path=BERT_MODEL_NAME)\n",
    "\n",
    "data_files = DataFiles.from_dir(\n",
    "    # \"/home/pavlo/comp-550/comp-550-project/data/articles/clean_articles/training\"\n",
    "    \"/Users/od/Documents/Mila/COMP-550/Final Project/comp-550-project/data/articles/clean_articles/training\"\n",
    ")\n",
    "\n",
    "train_dataset = Dataset(data_files)\n",
    "# train_dataset = train_dataset.map(\n",
    "#     partial(\n",
    "#         truncate_fn, \n",
    "#         tokenizer=tokenizer, \n",
    "#         max_seq_length=128, \n",
    "#         fill_to_max=False\n",
    "#     )\n",
    "# )\n"
   ]
  },
  {
   "cell_type": "code",
   "execution_count": null,
   "metadata": {},
   "outputs": [],
   "source": [
    "# data_loader = DataLoader(train_dataset, batch_size=10)\n",
    "\n",
    "model = DeepSkipAugmenter()"
   ]
  },
  {
   "cell_type": "code",
   "execution_count": null,
   "metadata": {},
   "outputs": [],
   "source": [
    "model.train(train_dataset)"
   ]
  }
 ],
 "metadata": {
  "interpreter": {
   "hash": "15a40e11aa3c948f13537918da56f072f38172adfb7dc644365435d0134178e7"
  },
  "kernelspec": {
   "display_name": "Python 3.9.7 64-bit ('comp-550-a2-venv': conda)",
   "language": "python",
   "name": "python3"
  },
  "language_info": {
   "codemirror_mode": {
    "name": "ipython",
    "version": 3
   },
   "file_extension": ".py",
   "mimetype": "text/x-python",
   "name": "python",
   "nbconvert_exporter": "python",
   "pygments_lexer": "ipython3",
   "version": "3.7.3"
  },
  "orig_nbformat": 4
 },
 "nbformat": 4,
 "nbformat_minor": 2
}
