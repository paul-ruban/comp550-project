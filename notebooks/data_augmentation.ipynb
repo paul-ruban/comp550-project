{
 "cells": [
  {
   "cell_type": "markdown",
   "metadata": {},
   "source": [
    "# Data augmentation proof of concept"
   ]
  },
  {
   "cell_type": "code",
   "execution_count": 3,
   "metadata": {},
   "outputs": [],
   "source": [
    "import os\n",
    "import sys\n",
    "sys.path.append(\"../\")\n",
    "sys.executable\n",
    "cur_dir = os.getcwd()"
   ]
  },
  {
   "cell_type": "code",
   "execution_count": 9,
   "metadata": {},
   "outputs": [],
   "source": [
    "polarity_path = os.path.join(cur_dir, \"..\", \"data\", \"rt-polaritydata\")\n",
    "pos_text = []\n",
    "neg_text = []\n",
    "with open(os.path.join(polarity_path, \"rt-polarity.neg\"), \"r\", encoding=\"latin\") as f:\n",
    "    pos_text = f.readlines()\n",
    "with open(os.path.join(polarity_path, \"rt-polarity.neg\"), \"r\", encoding=\"latin\") as f:\n",
    "    neg_text = f.readlines()\n",
    "with open(os.path.join(polarity_path, \"pos.txt\"), \"w\") as f:\n",
    "    for line in pos_text:\n",
    "        f.write(line)\n",
    "with open(os.path.join(polarity_path, \"neg.txt\"), \"w\") as f:\n",
    "    for line in neg_text:\n",
    "        f.write(line)"
   ]
  },
  {
   "cell_type": "code",
   "execution_count": 1,
   "metadata": {},
   "outputs": [
    {
     "name": "stdout",
     "output_type": "stream",
     "text": [
      ":/home/c_spino/comp-550-project\n"
     ]
    }
   ],
   "source": [
    "from src.augmentation.ssmba import gen_neighborhood\n",
    "\n",
    "for aug_file in [\"neg\", \"pos\"]:\n",
    "    gen_neighborhood(\n",
    "        in_file=os.path.join(polarity_path, f\"{aug_file}.txt\"),\n",
    "        output_path=os.path.join(polarity_path, f\"{aug_file}_augmented\"),\n",
    "        model=\"bert-base-uncased\",\n",
    "        tokenizer=\"bert-base-uncased\",\n",
    "        num_samples=2,\n",
    "        noise_prob=0.15,\n",
    "        topk=10,\n",
    "        seed=42\n",
    "    )"
   ]
  },
  {
   "cell_type": "code",
   "execution_count": null,
   "metadata": {},
   "outputs": [],
   "source": []
  }
 ],
 "metadata": {
  "interpreter": {
   "hash": "76563bcb032bc92047f8af45874c31363a00cf84e256bade488e530cde1f4b4b"
  },
  "kernelspec": {
   "display_name": "Python 3.8.12 64-bit ('nlp': conda)",
   "language": "python",
   "name": "python3"
  },
  "language_info": {
   "codemirror_mode": {
    "name": "ipython",
    "version": 3
   },
   "file_extension": ".py",
   "mimetype": "text/x-python",
   "name": "python",
   "nbconvert_exporter": "python",
   "pygments_lexer": "ipython3",
   "version": "3.8.12"
  },
  "orig_nbformat": 4
 },
 "nbformat": 4,
 "nbformat_minor": 2
}
