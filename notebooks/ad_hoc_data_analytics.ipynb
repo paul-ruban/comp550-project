{
 "cells": [
  {
   "cell_type": "code",
   "execution_count": 6,
   "metadata": {},
   "outputs": [],
   "source": [
    "import json\n",
    "import pandas as pd\n",
    "from src.utils.json_utils import read_json_lines\n",
    "train = read_json_lines(\"/home/c_spino/comp_550/comp-550-project/data/smokers/augmentation/train.json\")\n",
    "val = read_json_lines(\"/home/c_spino/comp_550/comp-550-project/data/smokers/augmentation/validation.json\")\n",
    "test = read_json_lines(\"/home/c_spino/comp_550/comp-550-project/data/smokers/augmentation/test.json\")\n",
    "train = pd.DataFrame(data={\"label\": [x[\"label\"] for x in train], \"text\": [x[\"text\"] for x in train]})\n",
    "val = pd.DataFrame(data={\"label\": [x[\"label\"] for x in val], \"text\": [x[\"text\"] for x in val]})\n",
    "test = pd.DataFrame(data={\"label\": [x[\"label\"] for x in test], \"text\": [x[\"text\"] for x in test]})\n",
    "all_data = pd.concat([train, val, test])"
   ]
  },
  {
   "cell_type": "code",
   "execution_count": 9,
   "metadata": {},
   "outputs": [
    {
     "data": {
      "text/plain": [
       "label\n",
       "current-smoker     46\n",
       "non-smoker         82\n",
       "past-smoker        47\n",
       "smoker             12\n",
       "unknown           315\n",
       "dtype: int64"
      ]
     },
     "execution_count": 9,
     "metadata": {},
     "output_type": "execute_result"
    }
   ],
   "source": [
    "SMOKERS = {\n",
    "    \"unknown\": 0,\n",
    "    \"non-smoker\": 1,\n",
    "    \"past-smoker\": 2,\n",
    "    \"smoker\": 3,\n",
    "    \"current-smoker\": 4,\n",
    "}\n",
    "SMOKERS_INVERSE = dict(zip(SMOKERS.values(), SMOKERS.keys()))\n",
    "all_data.groupby(\"label\").size()\n",
    "all_data.replace(SMOKERS_INVERSE).groupby(\"label\").size()\n"
   ]
  },
  {
   "cell_type": "code",
   "execution_count": null,
   "metadata": {},
   "outputs": [],
   "source": []
  }
 ],
 "metadata": {
  "interpreter": {
   "hash": "76563bcb032bc92047f8af45874c31363a00cf84e256bade488e530cde1f4b4b"
  },
  "kernelspec": {
   "display_name": "Python 3.7.10 64-bit ('nlp': conda)",
   "language": "python",
   "name": "python3"
  },
  "language_info": {
   "codemirror_mode": {
    "name": "ipython",
    "version": 3
   },
   "file_extension": ".py",
   "mimetype": "text/x-python",
   "name": "python",
   "nbconvert_exporter": "python",
   "pygments_lexer": "ipython3",
   "version": "3.7.10"
  },
  "orig_nbformat": 4
 },
 "nbformat": 4,
 "nbformat_minor": 2
}
