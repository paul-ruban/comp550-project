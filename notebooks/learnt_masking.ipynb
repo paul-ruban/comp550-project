{
 "cells": [
  {
   "cell_type": "code",
   "execution_count": 1,
   "metadata": {},
   "outputs": [],
   "source": [
    "import sys\n",
    "sys.path.append(\"../\")\n",
    "from functools import partial\n",
    "\n",
    "import torch\n",
    "from torch.utils.data import DataLoader\n",
    "\n",
    "import transformers\n",
    "from transformers import AutoTokenizer, AutoModelForMaskedLM\n",
    "\n",
    "from src.models.rnn_model import RNN\n",
    "from src.models.learned_masking import DeepAugmenter\n",
    "from src.data.dataio import DataFiles, Dataset, truncate_fn\n",
    "\n",
    "transformers.logging.set_verbosity_error()"
   ]
  },
  {
   "cell_type": "code",
   "execution_count": 2,
   "metadata": {},
   "outputs": [
    {
     "data": {
      "application/vnd.jupyter.widget-view+json": {
       "model_id": "3a546500b36043aebe35f543956a9533",
       "version_major": 2,
       "version_minor": 0
      },
      "text/plain": [
       "Resolving data files:   0%|          | 0/1780 [00:00<?, ?it/s]"
      ]
     },
     "metadata": {},
     "output_type": "display_data"
    },
    {
     "name": "stderr",
     "output_type": "stream",
     "text": [
      "Using custom data configuration default-6574999eee52b4d9\n",
      "Reusing dataset text (/home/pavlo/.cache/huggingface/datasets/text/default-6574999eee52b4d9/0.0.0/e10c27cd9493b3e5d594862e2a0d24e29034e10b895b72057984ed60b5a1c333)\n"
     ]
    }
   ],
   "source": [
    "BERT_MODEL_NAME = \"distilbert-base-uncased\"\n",
    "\n",
    "tokenizer = AutoTokenizer.from_pretrained(pretrained_model_name_or_path=BERT_MODEL_NAME)\n",
    "\n",
    "data_files = DataFiles.from_dir(\n",
    "    \"/home/pavlo/comp-550/comp-550-project/data/articles/clean_articles/training\"\n",
    ")\n",
    "\n",
    "train_dataset = Dataset(data_files)\n",
    "# train_dataset = train_dataset.map(\n",
    "#     partial(\n",
    "#         truncate_fn, \n",
    "#         tokenizer=tokenizer, \n",
    "#         max_seq_length=128, \n",
    "#         fill_to_max=False\n",
    "#     )\n",
    "# )\n"
   ]
  },
  {
   "cell_type": "code",
   "execution_count": 3,
   "metadata": {},
   "outputs": [],
   "source": [
    "# data_loader = DataLoader(train_dataset, batch_size=10)\n",
    "\n",
    "model = DeepAugmenter()"
   ]
  },
  {
   "cell_type": "code",
   "execution_count": null,
   "metadata": {},
   "outputs": [],
   "source": [
    "model.train(train_dataset)"
   ]
  }
 ],
 "metadata": {
  "interpreter": {
   "hash": "15a40e11aa3c948f13537918da56f072f38172adfb7dc644365435d0134178e7"
  },
  "kernelspec": {
   "display_name": "Python 3.9.7 64-bit ('comp-550-a2-venv': conda)",
   "language": "python",
   "name": "python3"
  },
  "language_info": {
   "codemirror_mode": {
    "name": "ipython",
    "version": 3
   },
   "file_extension": ".py",
   "mimetype": "text/x-python",
   "name": "python",
   "nbconvert_exporter": "python",
   "pygments_lexer": "ipython3",
   "version": "3.9.7"
  },
  "orig_nbformat": 4
 },
 "nbformat": 4,
 "nbformat_minor": 2
}
