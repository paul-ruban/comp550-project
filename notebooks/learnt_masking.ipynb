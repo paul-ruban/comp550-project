{
 "cells": [
  {
   "cell_type": "code",
   "execution_count": 1,
   "metadata": {},
   "outputs": [],
   "source": [
    "import sys\n",
    "sys.path.append(\"../\")\n",
    "from copy import deepcopy\n",
    "\n",
    "import torch\n",
    "import logging\n",
    "from torch.utils.data import DataLoader\n",
    "\n",
    "import transformers\n",
    "from transformers import AutoTokenizer, AutoModel\n",
    "\n",
    "from src.models.rnn_model import RNN\n",
    "from src.models.learned_masking import (\n",
    "    HighwayAugmenter,\n",
    "    WeightedMaskClassificationLoss,\n",
    "    HighwayAugmenterTrainer\n",
    ")\n",
    "from src.data.dataio import DataFiles, Dataset, truncate_fn\n",
    "\n",
    "transformers.logging.set_verbosity_error()\n",
    "\n",
    "logger = logging.getLogger()"
   ]
  },
  {
   "cell_type": "code",
   "execution_count": 3,
   "metadata": {},
   "outputs": [
    {
     "name": "stderr",
     "output_type": "stream",
     "text": [
      "Using custom data configuration default-414426bd25cc89f5\n",
      "Reusing dataset json (/root/.cache/huggingface/datasets/json/default-414426bd25cc89f5/0.0.0/7334ed11270d48b1ef46b6251d4d612598d73f1cd0c2510f656d05a4ff0d849a)\n",
      "Using custom data configuration default-c4d7b4c9955a7f53\n",
      "Reusing dataset json (/root/.cache/huggingface/datasets/json/default-c4d7b4c9955a7f53/0.0.0/7334ed11270d48b1ef46b6251d4d612598d73f1cd0c2510f656d05a4ff0d849a)\n"
     ]
    }
   ],
   "source": [
    "BERT_MODEL_NAME = \"distilbert-base-uncased\"\n",
    "\n",
    "tokenizer = AutoTokenizer.from_pretrained(pretrained_model_name_or_path=BERT_MODEL_NAME)\n",
    "\n",
    "train_data_files = DataFiles(\n",
    "    [\"/content/comp-550-project/data/articles/augmentation/train.json\"]\n",
    ")\n",
    "\n",
    "train_dataset = Dataset(train_data_files, data_format=\"json\")\n",
    "train_dataloader = DataLoader(train_dataset, batch_size=4)\n",
    "\n",
    "valid_data_files = DataFiles(\n",
    "    [\"/content/comp-550-project/data/articles/augmentation/validation.json\"]\n",
    ")\n",
    "valid_dataset = Dataset(valid_data_files, data_format=\"json\")\n",
    "valid_dataloader = DataLoader(valid_dataset, batch_size=4)"
   ]
  },
  {
   "cell_type": "code",
   "execution_count": 4,
   "metadata": {},
   "outputs": [],
   "source": [
    "# data_loader = DataLoader(train_dataset, batch_size=10)\n",
    "\n",
    "bert = AutoModel.from_pretrained(BERT_MODEL_NAME)\n",
    "\n",
    "model = HighwayAugmenter(\n",
    "    tokenizer=AutoTokenizer.from_pretrained(BERT_MODEL_NAME),\n",
    "    masking_model=RNN(output_size=2, embeddings_layer=deepcopy(bert.embeddings.word_embeddings)),\n",
    "    unmasking_model=bert,\n",
    "    classifier=RNN(output_size=5, embeddings_layer=deepcopy(bert.embeddings.word_embeddings))\n",
    ")\n",
    "\n",
    "optimizer = torch.optim.Adam(\n",
    "    params=[{\"params\": model.masking_model.parameters()},\n",
    "            {\"params\": model.classifier.parameters()}],\n",
    "    lr=0.001        \n",
    ")\n",
    "criterion = WeightedMaskClassificationLoss()\n",
    "\n",
    "trainer = HighwayAugmenterTrainer(\n",
    "    model=model,\n",
    "    optimizer=optimizer,\n",
    "    criterion=criterion,\n",
    "    train_dataloader=train_dataloader,\n",
    "    val_dataloader=valid_dataloader,\n",
    "    logger=logger,\n",
    "    num_epochs=2,\n",
    "    log_interval=1\n",
    ")\n",
    "\n",
    "trainer.train()"
   ]
  },
  {
   "cell_type": "code",
   "execution_count": 6,
   "metadata": {},
   "outputs": [
    {
     "data": {
      "text/plain": [
       "0.24324324324324326"
      ]
     },
     "execution_count": 6,
     "metadata": {},
     "output_type": "execute_result"
    }
   ],
   "source": [
    "trainer.best_f1_score"
   ]
  },
  {
   "cell_type": "code",
   "execution_count": null,
   "metadata": {},
   "outputs": [
    {
     "data": {
      "text/plain": [
       "4"
      ]
     },
     "execution_count": 5,
     "metadata": {},
     "output_type": "execute_result"
    }
   ],
   "source": [
    "import os\n",
    "from src.utils.json_utils import write_to_json\n",
    "\n",
    "PATH = \"/home/pavlo/comp-550/comp-550-project/data/articles/augmentation\"\n",
    "\n",
    "with open(os.path.join(PATH, \"training_text.txt\")) as f:\n",
    "    training_text = f.readlines()\n",
    "    training_text = [i.strip() for i in training_text]\n",
    "\n",
    "with open(os.path.join(PATH, \"training_labels.txt\")) as f:\n",
    "    training_labels = f.readlines()\n",
    "    training_labels = [int(i) for i in training_labels]\n",
    "\n",
    "# write_to_json(\n",
    "#     X=training_text,\n",
    "#     y=training_labels,\n",
    "#     output_folder_path=PATH,\n",
    "#     json_name=\"train.json\",\n",
    "\n",
    "# )\n",
    "max(training_labels)\n"
   ]
  },
  {
   "cell_type": "code",
   "execution_count": null,
   "metadata": {},
   "outputs": [],
   "source": []
  }
 ],
 "metadata": {
  "interpreter": {
   "hash": "15a40e11aa3c948f13537918da56f072f38172adfb7dc644365435d0134178e7"
  },
  "kernelspec": {
   "display_name": "Python 3.9.7 64-bit ('comp-550-a2-venv': conda)",
   "language": "python",
   "name": "python3"
  },
  "language_info": {
   "codemirror_mode": {
    "name": "ipython",
    "version": 3
   },
   "file_extension": ".py",
   "mimetype": "text/x-python",
   "name": "python",
   "nbconvert_exporter": "python",
   "pygments_lexer": "ipython3",
   "version": "3.7.12"
  },
  "orig_nbformat": 4
 },
 "nbformat": 4,
 "nbformat_minor": 2
}
