{
 "cells": [
  {
   "cell_type": "code",
   "execution_count": 1,
   "metadata": {},
   "outputs": [],
   "source": [
    "import sys\n",
    "sys.path.append(\"../\")\n",
    "import pickle\n",
    "import os\n",
    "from src.data.data_loader import load_data\n",
    "\n",
    "curdir = os.getcwd()"
   ]
  },
  {
   "cell_type": "code",
   "execution_count": 3,
   "metadata": {},
   "outputs": [
    {
     "data": {
      "text/plain": [
       "[\"high _ prices hit ba 's profits british airways has _ high fuel prices for a 40 % drop in profits . reporting its _ for the three months to 31 december 2004 _ the airline made a pre-tax profit of â£75m ( _ 141m ) compared with â£125m a year earlier _ rod eddington , ba 's chief executive , _ the results were `` respectable '' in a third quarter when fuel costs rose by â£106m _ 47.3 % _ ba 's profits were still better than market expectation of â£59m , and it expects a rise _ full-year revenues . to help offset _ increased price of _ fuel , ba last year introduced a fuel surcharge _ passengers . in october , it increased this from â£6 _ â£10 one-way for all long-haul flights , while the short-haul surcharge _ raised from â£2.50 to â£4 a leg . yet _ analyst mike powell of dresdner kleinwort wasserstein says ba 's estimated annual surcharge revenues _ â£160m - will still be way short of its additional _ _ - a predicted extra â£250m . turnover for the quarter was up 4.3 % to â£1.97bn , _ benefiting from a rise _ cargo revenue . looking ahead to its full year results to march 2005 , _ warned that yields - average revenues per _ - were expected to decline as _ continues to lower prices in the face of competition from low-cost carriers . _ , it said sales would be better than previously forecast . _ for the year to _ 2005 , the total revenue _ is slightly better than previous guidance with a 3 % to _ % improvement anticipated , '' ba chairman martin broughton said . ba had _ forecast a 2 % to 3 % rise _ full-year revenue . it also reported on friday _ passenger numbers rose 8.1 % in january _ aviation analyst nick van den brul of bnp paribas described _ 's latest quarterly results as `` pretty modest '' . `` _ is quite good on the _ side and it shows the impact of fuel surcharges _ a positive cargo development , however , operating margins down and cost impact of _ are very strong , _ he said . since the 11 september 2001 attacks in the united states _ ba has cut 13,000 jobs as part of a _ cost-cutting drive . `` our focus remains on reducing controllable costs and debt _ continuing to invest in _ products , '' mr eddington _ . `` for example , we have taken delivery of six airbus a321 aircraft and next _ we will start further improvements to our club world flat _ . '' _ 's shares closed up four pence at 274.5 pence .\"]"
      ]
     },
     "execution_count": 3,
     "metadata": {},
     "output_type": "execute_result"
    }
   ],
   "source": [
    "with open(os.path.join(curdir, \"..\", \"src\", \"models\", \"pickle\", \"masking\", \"masking_dict.pkl\"), \"rb\") as f:\n",
    "    data_pkl = pickle.load(f)\n",
    "\n",
    "data_pkl[('RandomWindowMask',\n",
    "  ('prop_masked', 0.1),\n",
    "  ('window_size', 10))][:1]"
   ]
  },
  {
   "cell_type": "code",
   "execution_count": 4,
   "metadata": {},
   "outputs": [
    {
     "data": {
      "text/plain": [
       "[\"high NN prices hit ba 's profits british airways has VBN high fuel prices for a 40 % drop in profits . reporting its NNS for the three months to 31 december 2004 , the airline made a pre-tax profit of â£75m ( $ 141m ) compared with â£125m a year earlier . rod eddington , ba 's chief executive , VBD the results were `` respectable '' in a third quarter when fuel costs rose by â£106m CC 47.3 % . ba 's profits were still better than market expectation of â£59m , and it expects a rise IN full-year revenues . to help offset DT increased price of NN fuel , ba last year introduced a fuel surcharge IN passengers . in october , it increased this from â£6 TO â£10 one-way for all long-haul flights , while the short-haul surcharge VBD raised from â£2.50 to â£4 a leg . yet JJ analyst mike powell of dresdner kleinwort wasserstein says ba 's estimated annual surcharge revenues : â£160m - will still be way short of its additional NN NNS - a predicted extra â£250m . turnover for the quarter was up 4.3 % to â£1.97bn , JJ benefiting from a rise IN cargo revenue . looking ahead to its full year results to march 2005 , NN warned that yields - average revenues per NN - were expected to decline as PRP continues to lower prices in the face of competition from low-cost carriers . RB , it said sales would be better than previously forecast . `` for the year to VB 2005 , the total revenue NN is slightly better than previous guidance with a 3 % to CD % improvement anticipated , '' ba chairman martin broughton said . ba had RB forecast a 2 % to 3 % rise IN full-year revenue . it also reported on friday IN passenger numbers rose 8.1 % in january . aviation analyst nick van den brul of bnp paribas described NN 's latest quarterly results as `` pretty modest '' . `` PRP is quite good on the NN side and it shows the impact of fuel surcharges CC a positive cargo development , however , operating margins down and cost impact of NN are very strong , '' he said . since the 11 september 2001 attacks in the united states , ba has cut 13,000 jobs as part of a JJ cost-cutting drive . `` our focus remains on reducing controllable costs and debt NN continuing to invest in PRP$ products , '' mr eddington VBD . `` for example , we have taken delivery of six airbus a321 aircraft and next NN we will start further improvements to our club world flat NNS . '' NN 's shares closed up four pence at 274.5 pence .\"]"
      ]
     },
     "execution_count": 4,
     "metadata": {},
     "output_type": "execute_result"
    }
   ],
   "source": [
    "with open(os.path.join(curdir, \"..\", \"src\", \"models\", \"pickle\", \"masking\", \"masking_with_POS_dict.pkl\"), \"rb\") as f:\n",
    "    data_pkl = pickle.load(f)\n",
    "\n",
    "data_pkl[('RandomWindowMask',\n",
    "  ('prop_masked', 0.1),\n",
    "  ('window_size', 10))][:1]"
   ]
  },
  {
   "cell_type": "code",
   "execution_count": 5,
   "metadata": {},
   "outputs": [
    {
     "data": {
      "text/plain": [
       "[\"high fuel prices hit ba 's profits british airways has blamed high fuel prices for a 40 % drop in profits . reporting its results for the three months to 31 december 2004 , the airline made a pre-tax profit of â£75m ( $ 141m ) compared with â£125m a year earlier . rod eddington , ba 's chief executive , said the results were `` respectable '' in a third quarter when fuel costs rose by â£106m or 47.3 % . ba 's profits were still better than market expectation of â£59m , and it expects a rise in full-year revenues . to help offset the increased price of aviation fuel , ba last year introduced a fuel surcharge for passengers . in october , it increased this from â£6 to â£10 one-way for all long-haul flights , while the short-haul surcharge was raised from â£2.50 to â£4 a leg . yet aviation analyst mike powell of dresdner kleinwort wasserstein says ba 's estimated annual surcharge revenues - â£160m - will still be way short of its additional fuel costs - a predicted extra â£250m . turnover for the quarter was up 4.3 % to â£1.97bn , further benefiting from a rise in cargo revenue . looking ahead to its full year results to march 2005 , ba warned that yields - average revenues per passenger - were expected to decline as it continues to lower prices in the face of competition from low-cost carriers . however , it said sales would be better than previously forecast . `` for the year to march 2005 , the total revenue outlook is slightly better than previous guidance with a 3 % to 3.5 % improvement anticipated , '' ba chairman martin broughton said . ba had previously forecast a 2 % to 3 % rise in full-year revenue . it also reported on friday that passenger numbers rose 8.1 % in january . aviation analyst nick van den brul of bnp paribas described ba 's latest quarterly results as `` pretty modest '' . `` it is quite good on the revenue side and it shows the impact of fuel surcharges and a positive cargo development , however , operating margins down and cost impact of fuel are very strong , '' he said . since the 11 september 2001 attacks in the united states , ba has cut 13,000 jobs as part of a major cost-cutting drive . `` our focus remains on reducing controllable costs and debt whilst continuing to invest in our products , '' mr eddington said . `` for example , we have taken delivery of six airbus a321 aircraft and next month we will start further improvements to our club world flat beds . '' ba 's shares closed up four pence at 274.5 pence .\"]"
      ]
     },
     "execution_count": 5,
     "metadata": {},
     "output_type": "execute_result"
    }
   ],
   "source": [
    "data_load = load_data(os.path.join(curdir, \"..\", \"data\", \"clean\", \"validation\"))\n",
    "data_load[:1]"
   ]
  },
  {
   "cell_type": "code",
   "execution_count": null,
   "metadata": {},
   "outputs": [],
   "source": []
  }
 ],
 "metadata": {
  "interpreter": {
   "hash": "76563bcb032bc92047f8af45874c31363a00cf84e256bade488e530cde1f4b4b"
  },
  "kernelspec": {
   "display_name": "Python 3.8.12 64-bit ('nlp': conda)",
   "language": "python",
   "name": "python3"
  },
  "language_info": {
   "codemirror_mode": {
    "name": "ipython",
    "version": 3
   },
   "file_extension": ".py",
   "mimetype": "text/x-python",
   "name": "python",
   "nbconvert_exporter": "python",
   "pygments_lexer": "ipython3",
   "version": "3.8.12"
  },
  "orig_nbformat": 4
 },
 "nbformat": 4,
 "nbformat_minor": 2
}
