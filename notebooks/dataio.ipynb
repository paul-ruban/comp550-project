{
 "cells": [
  {
   "cell_type": "code",
   "execution_count": 1,
   "metadata": {},
   "outputs": [],
   "source": [
    "import sys\n",
    "sys.path.append(\"../\")\n",
    "import transformers\n",
    "transformers.logging.set_verbosity_error()\n",
    "\n",
    "from functools import partial\n",
    "from transformers import AutoTokenizer, AutoModelForMaskedLM\n",
    "from src.data.dataio import DataFiles, Dataset, remove_empty_fn, truncate_fn"
   ]
  },
  {
   "cell_type": "code",
   "execution_count": 3,
   "metadata": {},
   "outputs": [
    {
     "name": "stderr",
     "output_type": "stream",
     "text": [
      "Using custom data configuration default-6508e13455e6899d\n",
      "Reusing dataset text (/Users/od/.cache/huggingface/datasets/text/default-6508e13455e6899d/0.0.0/0080d89f73ff0c9a11dfd854d463ea39d3cb8ed8a266110648767bd2b894d30d)\n",
      "Loading cached processed dataset at /Users/od/.cache/huggingface/datasets/text/default-6508e13455e6899d/0.0.0/0080d89f73ff0c9a11dfd854d463ea39d3cb8ed8a266110648767bd2b894d30d/cache-5c9c1703635afe71.arrow\n",
      "Loading cached processed dataset at /Users/od/.cache/huggingface/datasets/text/default-6508e13455e6899d/0.0.0/0080d89f73ff0c9a11dfd854d463ea39d3cb8ed8a266110648767bd2b894d30d/cache-d52af9fa55cc70fb.arrow\n"
     ]
    },
    {
     "name": "stdout",
     "output_type": "stream",
     "text": [
      "{'file_id': 0, 'line_id': 0, 'subline_id': 0, 'text': '\\ufeffThe Project Gutenberg EBook of A Christmas Carol, by Charles Dickens'}\n",
      "{'file_id': 0, 'line_id': 2, 'subline_id': 0, 'text': 'This eBook is for the use of anyone anywhere at no cost and with'}\n",
      "{'file_id': 0, 'line_id': 3, 'subline_id': 0, 'text': 'almost no restrictions whatsoever.  You may copy it, give it away or'}\n",
      "{'file_id': 0, 'line_id': 4, 'subline_id': 0, 'text': 're-use it under the terms of the Project Gutenberg License included'}\n",
      "{'file_id': 0, 'line_id': 5, 'subline_id': 0, 'text': 'with this eBook or online at www.gutenberg.org'}\n",
      "{'file_id': 0, 'line_id': 8, 'subline_id': 0, 'text': 'Title: A Christmas Carol</s>Author: Charles Dickens'}\n"
     ]
    }
   ],
   "source": [
    "PRETRAINED_MODEL = 'distilroberta-base'\n",
    "\n",
    "data_files = DataFiles.from_url_file(url_file=\"../data/books.txt\")\n",
    "\n",
    "dataset = Dataset(data_files)\n",
    "dataset = dataset.map(remove_empty_fn)\n",
    "tokenizer = AutoTokenizer.from_pretrained(pretrained_model_name_or_path=PRETRAINED_MODEL)\n",
    "dataset = dataset.map(partial(truncate_fn, tokenizer=tokenizer, max_seq_length=20, fill_to_max=True))\n",
    "\n",
    "for i, x in enumerate(dataset):\n",
    "    print(x)\n",
    "    if i >= 5:\n",
    "        break"
   ]
  },
  {
   "cell_type": "code",
   "execution_count": 4,
   "metadata": {},
   "outputs": [],
   "source": [
    "import torch\n",
    "from torch.utils.data import DataLoader\n",
    "from transformers import AdamW\n",
    "from transformers.data.data_collator import DataCollatorForLanguageModeling\n",
    "\n",
    "collator = DataCollatorForLanguageModeling(tokenizer, mlm_probability=0.25)\n",
    "\n",
    "device = torch.device('cuda') if torch.cuda.is_available() else torch.device('cpu')\n",
    "\n",
    "model = AutoModelForMaskedLM.from_pretrained(pretrained_model_name_or_path=PRETRAINED_MODEL)\n",
    "model.to(device)\n",
    "model.train()\n",
    "\n",
    "loader = DataLoader(dataset, batch_size=4)\n",
    "\n",
    "optim = AdamW(model.parameters(), lr=5e-5)\n",
    "\n",
    "# for epoch in range(1):\n",
    "#     for i, batch in enumerate(loader):\n",
    "#         optim.zero_grad()\n",
    "#         batch = tokenizer(batch[\"text\"], truncation=True, padding=True, return_special_tokens_mask=True, return_tensors=\"pt\")\n",
    "#         batch = batch.to(device)\n",
    "#         attention_mask = batch[\"attention_mask\"]\n",
    "#         labels = batch['input_ids']\n",
    "        \n",
    "#         batch = collator(features=(batch,))\n",
    "#         input_ids = batch[\"input_ids\"].squeeze(0)\n",
    "#         outputs = model(input_ids, attention_mask=attention_mask, labels=labels)\n",
    "#         loss = outputs.loss\n",
    "#         print(loss)\n",
    "#         loss.backward()\n",
    "#         optim.step()\n",
    "\n",
    "# model.eval()"
   ]
  },
  {
   "cell_type": "code",
   "execution_count": 5,
   "metadata": {},
   "outputs": [],
   "source": [
    "import copy\n",
    "import random\n",
    "from abc import abstractmethod\n",
    "from typing import List, Tuple\n",
    "from collections import Counter\n"
   ]
  },
  {
   "cell_type": "code",
   "execution_count": 44,
   "metadata": {},
   "outputs": [
    {
     "name": "stdout",
     "output_type": "stream",
     "text": [
      "[['\\ufeffThe', 'Project', 'Gutenberg', 'EBook', 'of', 'A', 'Christmas', 'Carol,', 'by', 'Charles', 'Dickens']]\n",
      "[['\\ufeffThe', '<mask>', '<mask>', 'EBook', 'of', 'A', '<mask>', 'Carol,', 'by', '<mask>', '<mask>']]\n",
      "[['This', 'eBook', 'is', 'for', 'the', 'use', 'of', 'anyone', 'anywhere', 'at', 'no', 'cost', 'and', 'with']]\n",
      "[['<mask>', '<mask>', 'is', 'for', '<mask>', 'use', 'of', '<mask>', '<mask>', 'at', 'no', '<mask>', 'and', '<mask>']]\n",
      "[['almost', 'no', 'restrictions', 'whatsoever.', 'You', 'may', 'copy', 'it,', 'give', 'it', 'away', 'or']]\n",
      "[['<mask>', 'no', '<mask>', '<mask>', 'You', 'may', '<mask>', 'it,', '<mask>', 'it', '<mask>', 'or']]\n",
      "[['re-use', 'it', 'under', 'the', 'terms', 'of', 'the', 'Project', 'Gutenberg', 'License', 'included']]\n",
      "[['<mask>', 'it', 'under', 'the', 'terms', 'of', 'the', '<mask>', '<mask>', '<mask>', '<mask>']]\n",
      "[['with', 'this', 'eBook', 'or', 'online', 'at', 'www.gutenberg.org']]\n",
      "[['with', 'this', '<mask>', 'or', '<mask>', 'at', '<mask>']]\n",
      "[['Title:', 'A', 'Christmas', 'Carol</s>Author:', 'Charles', 'Dickens']]\n",
      "[['Title:', 'A', '<mask>', '<mask>', 'Charles', '<mask>']]\n"
     ]
    }
   ],
   "source": [
    "from src.models.masking import RandomMask, LengthBasedMask\n",
    "\n",
    "# randomMaskInstance = RandomMask(0.5, '<mask>')\n",
    "# randomMask = randomMaskInstance.mask\n",
    "\n",
    "# for i, x in enumerate(dataset):\n",
    "#     input_string = [x['text'].split()]\n",
    "#     print(input_string)\n",
    "#     print(randomMask(input_string))\n",
    "#     if i >= 5:\n",
    "#         break\n",
    "\n",
    "lengthMaskInstance = LengthBasedMask(0.5, 'all', '<mask>')\n",
    "lengthMask = lengthMaskInstance.mask\n",
    "\n",
    "for i, x in enumerate(dataset):\n",
    "    input_string = [x['text'].split()]\n",
    "    print(input_string)\n",
    "    print(lengthMask(input_string))\n",
    "    if i >= 5:\n",
    "        break"
   ]
  },
  {
   "cell_type": "code",
   "execution_count": 45,
   "metadata": {},
   "outputs": [
    {
     "name": "stdout",
     "output_type": "stream",
     "text": [
      "['\\ufeffThe', 'Project', 'Gutenberg', 'EBook', 'of', 'A', 'Christmas', 'Carol,', 'by', 'Charles', 'Dickens']\n",
      "['\\ufeffThe', 'Complete', 'Complete', 'EBook', 'of', 'A', 'Christmas', 'Carol,', 'by', 'Jonathan', 'Dickens']\n",
      "Percentage score: 0.73\n",
      "['This', 'eBook', 'is', 'for', 'the', 'use', 'of', 'anyone', 'anywhere', 'at', 'no', 'cost', 'and', 'with']\n",
      "['This', 'content', 'is', 'permitted', 'the', 'use', 'of', 'pseudanity', 'at', 'no', 'cost', 'and', 'cost']\n",
      "Percentage score: 0.36\n",
      "['almost', 'no', 'restrictions', 'whatsoever.', 'You', 'may', 'copy', 'it,', 'give', 'it', 'away', 'or']\n",
      "['Leave', 'no', 'longer.', 'You', 'may', 'like', 'it,', 'save', 'it', 'here', 'or']\n",
      "Percentage score: 0.08\n",
      "['re-use', 'it', 'under', 'the', 'terms', 'of', 'the', 'Project', 'Gutenberg', 'License', 'included']\n",
      "['treat', 'it', 'under', 'the', 'terms', 'of', 'the', 'European', 'Trade', 'Agreement.']\n",
      "Percentage score: 0.55\n",
      "['with', 'this', 'eBook', 'or', 'online', 'at', 'www.gutenberg.org']\n",
      "['with', 'this', 'article', 'or', 'comment', 'at:']\n",
      "Percentage score: 0.43\n",
      "['Title:', 'A', 'Christmas', 'Carol</s>Author:', 'Charles', 'Dickens']\n",
      "['Title:', 'Acknowled', 'Called', 'Charles', 'Dickens']\n",
      "Percentage score: 0.17\n"
     ]
    }
   ],
   "source": [
    "import torch\n",
    "\n",
    "def get_percent_difference(original, decompressed):\n",
    "    original_tokens = original.split()\n",
    "    decompressed_tokens = decompressed.split()\n",
    "\n",
    "    print(original_tokens)\n",
    "    print(decompressed_tokens)\n",
    "\n",
    "    match_count = 0\n",
    "\n",
    "    for i, x in enumerate(original_tokens):\n",
    "        if (len(decompressed_tokens) > i and x == decompressed_tokens[i]):\n",
    "            match_count += 1\n",
    "\n",
    "    return round(match_count / len(original_tokens), 2)\n",
    "\n",
    "\n",
    "for i, x in enumerate(dataset):\n",
    "    input_string = [x['text'].split()]\n",
    "    # print('input_string is', input_string)\n",
    "    masked_tokens = lengthMask(input_string)[0]\n",
    "    # print('masked_tokens is', masked_tokens)\n",
    "    masked_sentence = ' '.join(masked_tokens)\n",
    "    # print('masked_sentence is', masked_sentence)\n",
    "    out = torch.argmax(torch.log_softmax(model(**tokenizer.batch_encode_plus([masked_sentence], return_tensors=\"pt\"))[\"logits\"], dim=-1), dim=-1)\n",
    "    decoded = tokenizer.batch_decode(out, skip_special_tokens=True)[0]\n",
    "    print('Percentage score:', get_percent_difference(x['text'], decoded))\n",
    "    # print('decoded is', decoded)\n",
    "    if i >= 5:\n",
    "        break"
   ]
  },
  {
   "cell_type": "markdown",
   "metadata": {},
   "source": [
    "['\\ufeffThe', 'Project', 'Gutenberg', 'EBook', 'of', 'A', 'Christmas', 'Carol,', 'by', 'Charles', 'Dickens']\n",
    "['\\ufeffThe', 'Project', 'Gutenberg', 'EBook', 'of', 'A', 'Christmas', 'Carol,', 'by', 'Jonathan', 'Robinson']\n",
    "Percentage score: 0.82\n",
    "['This', 'eBook', 'is', 'for', 'the', 'use', 'of', 'anyone', 'anywhere', 'at', 'no', 'cost', 'and', 'with']\n",
    "['This', 'usage', 'is', 'for', 'the', 'use', 'of', 'electronic', 'materials', 'at', 'no', 'charge', 'and', 'with']\n",
    "Percentage score: 0.71\n",
    "['almost', 'no', 'restrictions', 'whatsoever.', 'You', 'may', 'copy', 'it,', 'give', 'it', 'away', 'or']\n",
    "['Pay', 'no', 'obligation!', 'You', 'may', 'donate', 'it,', 'give', 'it', 'away', 'or']\n",
    "Percentage score: 0.08\n",
    "['re-use', 'it', 'under', 'the', 'terms', 'of', 'the', 'Project', 'Gutenberg', 'License', 'included']\n",
    "['re-use', 'it', 'under', 'the', 'terms', 'of', 'the', 'Creative', 'Commons', 'License', 'License']\n",
    "Percentage score: 0.73\n",
    "['with', 'this', 'eBook', 'or', 'online', 'at', 'www.gutenberg.org']\n",
    "['with', 'this', 'eBook', 'or', 'purchase', 'at', 'checkout']\n",
    "Percentage score: 0.71\n",
    "['Title:', 'A', 'Christmas', 'Carol</s>Author:', 'Charles', 'Dickens']\n",
    "['Title:', 'A', 'Novel', 'by', 'Charles', 'Dickens']\n",
    "Percentage score: 0.67"
   ]
  },
  {
   "cell_type": "code",
   "execution_count": 5,
   "metadata": {},
   "outputs": [
    {
     "data": {
      "text/plain": [
       "['<s>Montreal is a beautiful city, but Toronto is unique.</s>']"
      ]
     },
     "execution_count": 5,
     "metadata": {},
     "output_type": "execute_result"
    }
   ],
   "source": [
    "import torch\n",
    "out = torch.argmax(torch.log_softmax(model(**tokenizer.batch_encode_plus([\"Montreal is a <mask> city, but Toronto is <mask>.\"], return_tensors=\"pt\"))[\"logits\"], dim=-1), dim=-1)\n",
    "tokenizer.batch_decode(out)"
   ]
  }
 ],
 "metadata": {
  "interpreter": {
   "hash": "15a40e11aa3c948f13537918da56f072f38172adfb7dc644365435d0134178e7"
  },
  "kernelspec": {
   "display_name": "Python 3.9.7 64-bit ('comp-550-a2-venv': conda)",
   "language": "python",
   "name": "python3"
  },
  "language_info": {
   "codemirror_mode": {
    "name": "ipython",
    "version": 3
   },
   "file_extension": ".py",
   "mimetype": "text/x-python",
   "name": "python",
   "nbconvert_exporter": "python",
   "pygments_lexer": "ipython3",
   "version": "3.7.3"
  },
  "orig_nbformat": 4
 },
 "nbformat": 4,
 "nbformat_minor": 2
}
