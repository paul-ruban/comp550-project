{
 "cells": [
  {
   "cell_type": "code",
   "execution_count": null,
   "metadata": {},
   "outputs": [],
   "source": [
    "import sys\n",
    "sys.path.append(\"../\")\n",
    "import transformers\n",
    "transformers.logging.set_verbosity_error()\n",
    "\n",
    "from functools import partial\n",
    "from transformers import AutoTokenizer, AutoModelForMaskedLM\n",
    "from src.data.dataio import DataFiles, Dataset, remove_empty_fn, truncate_fn"
   ]
  },
  {
   "cell_type": "code",
   "execution_count": null,
   "metadata": {},
   "outputs": [],
   "source": [
    "PRETRAINED_MODEL = 'distilroberta-base'\n",
    "\n",
    "data_files = DataFiles.from_dir(\"/home/pavlo/comp-550/comp-550-project/data\")\n",
    "\n",
    "dataset = Dataset(data_files)\n",
    "dataset = dataset.map(remove_empty_fn)\n",
    "tokenizer = AutoTokenizer.from_pretrained(pretrained_model_name_or_path=PRETRAINED_MODEL)\n",
    "dataset = dataset.map(partial(truncate_fn, tokenizer=tokenizer, max_seq_length=20, fill_to_max=True))\n",
    "\n",
    "for i, x in enumerate(dataset):\n",
    "    print(x)\n",
    "    if i >= 5:\n",
    "        break"
   ]
  },
  {
   "cell_type": "code",
   "execution_count": null,
   "metadata": {},
   "outputs": [],
   "source": [
    "import torch\n",
    "from torch.utils.data import DataLoader\n",
    "from transformers import AdamW\n",
    "from transformers.data.data_collator import DataCollatorForLanguageModeling\n",
    "\n",
    "collator = DataCollatorForLanguageModeling(tokenizer, mlm_probability=0.25)\n",
    "\n",
    "device = torch.device('cuda') if torch.cuda.is_available() else torch.device('cpu')\n",
    "\n",
    "model = AutoModelForMaskedLM.from_pretrained(pretrained_model_name_or_path=PRETRAINED_MODEL)\n",
    "model.to(device)\n",
    "model.train()\n",
    "\n",
    "loader = DataLoader(dataset, batch_size=4)\n",
    "\n",
    "optim = AdamW(model.parameters(), lr=5e-5)\n",
    "\n",
    "for epoch in range(1):\n",
    "    for i, batch in enumerate(loader):\n",
    "        optim.zero_grad()\n",
    "        batch = tokenizer(batch[\"text\"], truncation=True, padding=True, return_special_tokens_mask=True, return_tensors=\"pt\")\n",
    "        batch = batch.to(device)\n",
    "        attention_mask = batch[\"attention_mask\"]\n",
    "        labels = batch['input_ids']\n",
    "        \n",
    "        batch = collator(features=(batch,))\n",
    "        input_ids = batch[\"input_ids\"].squeeze(0)\n",
    "        outputs = model(input_ids, attention_mask=attention_mask, labels=labels)\n",
    "        loss = outputs.loss\n",
    "        print(loss)\n",
    "        loss.backward()\n",
    "        optim.step()\n",
    "\n",
    "# model.eval()"
   ]
  },
  {
   "cell_type": "code",
   "execution_count": null,
   "metadata": {},
   "outputs": [],
   "source": [
    "import torch\n",
    "out = torch.argmax(torch.log_softmax(model(**tokenizer.batch_encode_plus([\"Montreal is a <mask> city, but Toronto is <mask>.\"], return_tensors=\"pt\"))[\"logits\"], dim=-1), dim=-1)\n",
    "tokenizer.batch_decode(out)"
   ]
  }
 ],
 "metadata": {
  "interpreter": {
   "hash": "15a40e11aa3c948f13537918da56f072f38172adfb7dc644365435d0134178e7"
  },
  "kernelspec": {
   "display_name": "Python 3.9.7 64-bit ('comp-550-a2-venv': conda)",
   "language": "python",
   "name": "python3"
  },
  "language_info": {
   "codemirror_mode": {
    "name": "ipython",
    "version": 3
   },
   "file_extension": ".py",
   "mimetype": "text/x-python",
   "name": "python",
   "nbconvert_exporter": "python",
   "pygments_lexer": "ipython3",
   "version": "3.9.7"
  },
  "orig_nbformat": 4
 },
 "nbformat": 4,
 "nbformat_minor": 2
}
