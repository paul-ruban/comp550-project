{
 "cells": [
  {
   "cell_type": "code",
   "execution_count": 1,
   "metadata": {},
   "outputs": [],
   "source": [
    "import sys\n",
    "sys.path.append(\"../\")\n",
    "import transformers\n",
    "transformers.logging.set_verbosity_error()\n",
    "\n",
    "from functools import partial\n",
    "from transformers import AutoTokenizer, AutoModelForMaskedLM\n",
    "from src.data.dataio import DataFiles, Dataset, remove_empty_fn, truncate_fn"
   ]
  },
  {
   "cell_type": "code",
   "execution_count": 3,
   "metadata": {},
   "outputs": [
    {
     "name": "stderr",
     "output_type": "stream",
     "text": [
      "Using custom data configuration default-6508e13455e6899d\n",
      "Reusing dataset text (/home/c_spino/.cache/huggingface/datasets/text/default-6508e13455e6899d/0.0.0/0080d89f73ff0c9a11dfd854d463ea39d3cb8ed8a266110648767bd2b894d30d)\n",
      "Loading cached processed dataset at /home/c_spino/.cache/huggingface/datasets/text/default-6508e13455e6899d/0.0.0/0080d89f73ff0c9a11dfd854d463ea39d3cb8ed8a266110648767bd2b894d30d/cache-100993ac6f5918fb.arrow\n"
     ]
    },
    {
     "data": {
      "application/vnd.jupyter.widget-view+json": {
       "model_id": "9cbf6c3580a34d3dafc4815ed12ed093",
       "version_major": 2,
       "version_minor": 0
      },
      "text/plain": [
       "  0%|          | 0/50 [00:00<?, ?ba/s]"
      ]
     },
     "metadata": {},
     "output_type": "display_data"
    },
    {
     "name": "stdout",
     "output_type": "stream",
     "text": [
      "{'file_id': 0, 'line_id': 0, 'subline_id': 0, 'text': '�'}\n",
      "{'file_id': 0, 'line_id': 0, 'subline_id': 1, 'text': '�'}\n",
      "{'file_id': 0, 'line_id': 0, 'subline_id': 2, 'text': '�'}\n",
      "{'file_id': 0, 'line_id': 0, 'subline_id': 3, 'text': 'The'}\n",
      "{'file_id': 0, 'line_id': 0, 'subline_id': 4, 'text': ' Project'}\n",
      "{'file_id': 0, 'line_id': 0, 'subline_id': 5, 'text': ' Gutenberg'}\n"
     ]
    }
   ],
   "source": [
    "PRETRAINED_MODEL = 'distilroberta-base'\n",
    "\n",
    "data_files = DataFiles.from_url_file(url_file=\"../data/books.txt\")\n",
    "\n",
    "dataset = Dataset(data_files)\n",
    "dataset = dataset.map(remove_empty_fn)\n",
    "tokenizer = AutoTokenizer.from_pretrained(pretrained_model_name_or_path=PRETRAINED_MODEL)\n",
    "dataset = dataset.map(partial(truncate_fn, tokenizer=tokenizer, max_seq_length=3, fill_to_max=True))\n",
    "\n",
    "for i, x in enumerate(dataset):\n",
    "    print(x)\n",
    "    if i >= 5:\n",
    "        break"
   ]
  },
  {
   "cell_type": "code",
   "execution_count": null,
   "metadata": {},
   "outputs": [],
   "source": [
    "import torch\n",
    "from torch.utils.data import DataLoader\n",
    "from transformers import AdamW\n",
    "from transformers.data.data_collator import DataCollatorForLanguageModeling\n",
    "\n",
    "collator = DataCollatorForLanguageModeling(tokenizer, mlm_probability=0.25)\n",
    "\n",
    "device = torch.device('cuda') if torch.cuda.is_available() else torch.device('cpu')\n",
    "\n",
    "model = AutoModelForMaskedLM.from_pretrained(pretrained_model_name_or_path=PRETRAINED_MODEL)\n",
    "model.to(device)\n",
    "model.train()\n",
    "\n",
    "loader = DataLoader(dataset, batch_size=4)\n",
    "\n",
    "optim = AdamW(model.parameters(), lr=5e-5)\n",
    "\n",
    "for epoch in range(1):\n",
    "    for i, batch in enumerate(loader):\n",
    "        optim.zero_grad()\n",
    "        batch = tokenizer(batch[\"text\"], truncation=True, padding=True, return_special_tokens_mask=True, return_tensors=\"pt\")\n",
    "        batch = batch.to(device)\n",
    "        attention_mask = batch[\"attention_mask\"]\n",
    "        labels = batch['input_ids']\n",
    "        \n",
    "        batch = collator(features=(batch,))\n",
    "        input_ids = batch[\"input_ids\"].squeeze(0)\n",
    "        outputs = model(input_ids, attention_mask=attention_mask, labels=labels)\n",
    "        loss = outputs.loss\n",
    "        print(loss)\n",
    "        loss.backward()\n",
    "        optim.step()\n",
    "\n",
    "# model.eval()"
   ]
  },
  {
   "cell_type": "code",
   "execution_count": null,
   "metadata": {},
   "outputs": [],
   "source": [
    "import torch\n",
    "out = torch.argmax(torch.log_softmax(model(**tokenizer.batch_encode_plus([\"Montreal is a <mask> city, but Toronto is <mask>.\"], return_tensors=\"pt\"))[\"logits\"], dim=-1), dim=-1)\n",
    "tokenizer.batch_decode(out)"
   ]
  }
 ],
 "metadata": {
  "interpreter": {
   "hash": "15a40e11aa3c948f13537918da56f072f38172adfb7dc644365435d0134178e7"
  },
  "kernelspec": {
   "display_name": "Python 3.9.7 64-bit ('comp-550-a2-venv': conda)",
   "language": "python",
   "name": "python3"
  },
  "language_info": {
   "codemirror_mode": {
    "name": "ipython",
    "version": 3
   },
   "file_extension": ".py",
   "mimetype": "text/x-python",
   "name": "python",
   "nbconvert_exporter": "python",
   "pygments_lexer": "ipython3",
   "version": "3.7.10"
  },
  "orig_nbformat": 4
 },
 "nbformat": 4,
 "nbformat_minor": 2
}
