{
 "cells": [
  {
   "cell_type": "code",
   "execution_count": 2,
   "metadata": {},
   "outputs": [],
   "source": [
    "import sys\n",
    "sys.path.append(\"../\")\n",
    "import transformers\n",
    "transformers.logging.set_verbosity_error()\n",
    "\n",
    "from functools import partial\n",
    "from transformers import AutoTokenizer, AutoModelForMaskedLM\n",
    "from src.data.dataio import DataFiles, Dataset, remove_empty_fn, truncate_fn"
   ]
  },
  {
   "cell_type": "code",
   "execution_count": 3,
   "metadata": {},
   "outputs": [
    {
     "name": "stderr",
     "output_type": "stream",
     "text": [
      "Using custom data configuration default-6508e13455e6899d\n",
      "Reusing dataset text (/Users/od/.cache/huggingface/datasets/text/default-6508e13455e6899d/0.0.0/0080d89f73ff0c9a11dfd854d463ea39d3cb8ed8a266110648767bd2b894d30d)\n",
      "Loading cached processed dataset at /Users/od/.cache/huggingface/datasets/text/default-6508e13455e6899d/0.0.0/0080d89f73ff0c9a11dfd854d463ea39d3cb8ed8a266110648767bd2b894d30d/cache-5c9c1703635afe71.arrow\n",
      "Loading cached processed dataset at /Users/od/.cache/huggingface/datasets/text/default-6508e13455e6899d/0.0.0/0080d89f73ff0c9a11dfd854d463ea39d3cb8ed8a266110648767bd2b894d30d/cache-d52af9fa55cc70fb.arrow\n"
     ]
    },
    {
     "name": "stdout",
     "output_type": "stream",
     "text": [
      "{'file_id': 0, 'line_id': 0, 'subline_id': 0, 'text': '\\ufeffThe Project Gutenberg EBook of A Christmas Carol, by Charles Dickens'}\n",
      "{'file_id': 0, 'line_id': 2, 'subline_id': 0, 'text': 'This eBook is for the use of anyone anywhere at no cost and with'}\n",
      "{'file_id': 0, 'line_id': 3, 'subline_id': 0, 'text': 'almost no restrictions whatsoever.  You may copy it, give it away or'}\n",
      "{'file_id': 0, 'line_id': 4, 'subline_id': 0, 'text': 're-use it under the terms of the Project Gutenberg License included'}\n",
      "{'file_id': 0, 'line_id': 5, 'subline_id': 0, 'text': 'with this eBook or online at www.gutenberg.org'}\n",
      "{'file_id': 0, 'line_id': 8, 'subline_id': 0, 'text': 'Title: A Christmas Carol</s>Author: Charles Dickens'}\n"
     ]
    }
   ],
   "source": [
    "PRETRAINED_MODEL = 'distilroberta-base'\n",
    "\n",
    "data_files = DataFiles.from_url_file(url_file=\"../data/books.txt\")\n",
    "\n",
    "dataset = Dataset(data_files)\n",
    "dataset = dataset.map(remove_empty_fn)\n",
    "tokenizer = AutoTokenizer.from_pretrained(pretrained_model_name_or_path=PRETRAINED_MODEL)\n",
    "dataset = dataset.map(partial(truncate_fn, tokenizer=tokenizer, max_seq_length=3, fill_to_max=True))\n",
    "\n",
    "for i, x in enumerate(dataset):\n",
    "    print(x)\n",
    "    if i >= 5:\n",
    "        break"
   ]
  },
  {
   "cell_type": "code",
   "execution_count": 4,
   "metadata": {},
   "outputs": [],
   "source": [
    "import torch\n",
    "from torch.utils.data import DataLoader\n",
    "from transformers import AdamW\n",
    "from transformers.data.data_collator import DataCollatorForLanguageModeling\n",
    "\n",
    "collator = DataCollatorForLanguageModeling(tokenizer, mlm_probability=0.25)\n",
    "\n",
    "device = torch.device('cuda') if torch.cuda.is_available() else torch.device('cpu')\n",
    "\n",
    "model = AutoModelForMaskedLM.from_pretrained(pretrained_model_name_or_path=PRETRAINED_MODEL)\n",
    "model.to(device)\n",
    "model.train()\n",
    "\n",
    "loader = DataLoader(dataset, batch_size=4)\n",
    "\n",
    "optim = AdamW(model.parameters(), lr=5e-5)\n",
    "\n",
    "# for epoch in range(1):\n",
    "#     for i, batch in enumerate(loader):\n",
    "#         optim.zero_grad()\n",
    "#         batch = tokenizer(batch[\"text\"], truncation=True, padding=True, return_special_tokens_mask=True, return_tensors=\"pt\")\n",
    "#         batch = batch.to(device)\n",
    "#         attention_mask = batch[\"attention_mask\"]\n",
    "#         labels = batch['input_ids']\n",
    "        \n",
    "#         batch = collator(features=(batch,))\n",
    "#         input_ids = batch[\"input_ids\"].squeeze(0)\n",
    "#         outputs = model(input_ids, attention_mask=attention_mask, labels=labels)\n",
    "#         loss = outputs.loss\n",
    "#         print(loss)\n",
    "#         loss.backward()\n",
    "#         optim.step()\n",
    "\n",
    "# model.eval()"
   ]
  },
  {
   "cell_type": "code",
   "execution_count": 45,
   "metadata": {},
   "outputs": [],
   "source": [
    "import copy\n",
    "import random\n",
    "from abc import abstractmethod\n",
    "from typing import List, Tuple\n",
    "from collections import Counter\n"
   ]
  },
  {
   "cell_type": "code",
   "execution_count": null,
   "metadata": {},
   "outputs": [],
   "source": [
    "from src.models.masking import RandomMask, LengthBasedMask\n",
    "\n",
    "randomMaskInstance = RandomMask(0.5, '<mask>')\n",
    "randomMask = randomMaskInstance.mask\n",
    "\n",
    "for i, x in enumerate(dataset):\n",
    "    input_string = [x['text'].split()]\n",
    "    print(input_string)\n",
    "    print(randomMask(input_string))\n",
    "    if i >= 5:\n",
    "        break\n",
    "\n",
    "lengthMaskInstance = LengthBasedMask(0.5, 'all', '<mask>')\n",
    "lengthMask = lengthMaskInstance.mask\n",
    "\n",
    "for i, x in enumerate(dataset):\n",
    "    input_string = [x['text'].split()]\n",
    "    print(input_string)\n",
    "    print(lengthMask(input_string))\n",
    "    if i >= 5:\n",
    "        break"
   ]
  },
  {
   "cell_type": "code",
   "execution_count": 58,
   "metadata": {},
   "outputs": [
    {
     "name": "stdout",
     "output_type": "stream",
     "text": [
      "input_string is [['\\ufeffThe', 'Project', 'Gutenberg', 'EBook', 'of', 'A', 'Christmas', 'Carol,', 'by', 'Charles', 'Dickens']]\n",
      "masked_tokens is ['\\ufeffThe', '<mask>', '<mask>', 'EBook', 'of', 'A', '<mask>', 'Carol,', 'by', '<mask>', '<mask>']\n",
      "masked_sentence is ﻿The <mask> <mask> EBook of A <mask> Carol, by <mask> <mask>\n",
      "output is ['<s>\\ufeffThe Best Illustrated EBook of A Christmas Carol, by Karen Robinson</s>']\n",
      "input_string is [['This', 'eBook', 'is', 'for', 'the', 'use', 'of', 'anyone', 'anywhere', 'at', 'no', 'cost', 'and', 'with']]\n",
      "masked_tokens is ['<mask>', '<mask>', 'is', 'for', 'the', 'use', 'of', '<mask>', '<mask>', 'at', 'no', '<mask>', '<mask>', '<mask>']\n",
      "masked_sentence is <mask> <mask> is for the use of <mask> <mask> at no <mask> <mask> <mask>\n",
      "output is ['<s>This article is for the use of Adobe links at no time cost.</s>']\n",
      "input_string is [['almost', 'no', 'restrictions', 'whatsoever.', 'You', 'may', 'copy', 'it,', 'give', 'it', 'away', 'or']]\n",
      "masked_tokens is ['<mask>', 'no', '<mask>', '<mask>', 'You', 'may', '<mask>', 'it,', '<mask>', 'it', '<mask>', 'or']\n",
      "masked_sentence is <mask> no <mask> <mask> You may <mask> it, <mask> it <mask> or\n",
      "output is ['<s>Leave no ads. You may use it, print it here or</s>']\n",
      "input_string is [['re-use', 'it', 'under', 'the', 'terms', 'of', 'the', 'Project', 'Gutenberg', 'License', 'included']]\n",
      "masked_tokens is ['<mask>', 'it', 'under', 'the', 'terms', 'of', 'the', '<mask>', '<mask>', '<mask>', '<mask>']\n",
      "masked_sentence is <mask> it under the terms of the <mask> <mask> <mask> <mask>\n",
      "output is ['<s>Read it under the terms of the EU Rights Agreement\".</s>']\n",
      "input_string is [['with', 'this', 'eBook', 'or', 'online', 'at', 'www.gutenberg.org']]\n",
      "masked_tokens is ['with', 'this', '<mask>', 'or', '<mask>', 'at', '<mask>']\n",
      "masked_sentence is with this <mask> or <mask> at <mask>\n",
      "output is ['<s>with this article or comment at anytime</s>']\n",
      "input_string is [['Title:', 'A', 'Christmas', 'Carol</s>Author:', 'Charles', 'Dickens']]\n",
      "masked_tokens is ['Title:', 'A', '<mask>', '<mask>', 'Charles', '<mask>']\n",
      "masked_sentence is Title: A <mask> <mask> Charles <mask>\n",
      "output is ['<s>Title: Acknowled By Charles Dickens</s>']\n"
     ]
    }
   ],
   "source": [
    "import torch\n",
    "\n",
    "for i, x in enumerate(dataset):\n",
    "    input_string = [x['text'].split()]\n",
    "    print('input_string is', input_string)\n",
    "    masked_tokens = lengthMask(input_string)[0]\n",
    "    print('masked_tokens is', masked_tokens)\n",
    "    masked_sentence = ' '.join(masked_tokens)\n",
    "    print('masked_sentence is', masked_sentence)\n",
    "    out = torch.argmax(torch.log_softmax(model(**tokenizer.batch_encode_plus([masked_sentence], return_tensors=\"pt\"))[\"logits\"], dim=-1), dim=-1)\n",
    "    print('output is', tokenizer.batch_decode(out))\n",
    "    # print(input_string)\n",
    "    # print(randomMask(input_string))\n",
    "    if i >= 5:\n",
    "        break"
   ]
  },
  {
   "cell_type": "code",
   "execution_count": 5,
   "metadata": {},
   "outputs": [
    {
     "data": {
      "text/plain": [
       "['<s>Montreal is a beautiful city, but Toronto is unique.</s>']"
      ]
     },
     "execution_count": 5,
     "metadata": {},
     "output_type": "execute_result"
    }
   ],
   "source": [
    "import torch\n",
    "out = torch.argmax(torch.log_softmax(model(**tokenizer.batch_encode_plus([\"Montreal is a <mask> city, but Toronto is <mask>.\"], return_tensors=\"pt\"))[\"logits\"], dim=-1), dim=-1)\n",
    "tokenizer.batch_decode(out)"
   ]
  }
 ],
 "metadata": {
  "interpreter": {
   "hash": "15a40e11aa3c948f13537918da56f072f38172adfb7dc644365435d0134178e7"
  },
  "kernelspec": {
   "display_name": "Python 3.9.7 64-bit ('comp-550-a2-venv': conda)",
   "language": "python",
   "name": "python3"
  },
  "language_info": {
   "codemirror_mode": {
    "name": "ipython",
    "version": 3
   },
   "file_extension": ".py",
   "mimetype": "text/x-python",
   "name": "python",
   "nbconvert_exporter": "python",
   "pygments_lexer": "ipython3",
   "version": "3.7.3"
  },
  "orig_nbformat": 4
 },
 "nbformat": 4,
 "nbformat_minor": 2
}
