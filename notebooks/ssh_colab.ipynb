{
 "cells": [
  {
   "cell_type": "markdown",
   "metadata": {},
   "source": [
    "## Mount Drive"
   ]
  },
  {
   "cell_type": "code",
   "execution_count": null,
   "metadata": {},
   "outputs": [],
   "source": [
    "from google.colab import drive\n",
    "drive.mount('/content/gdrive')"
   ]
  },
  {
   "cell_type": "code",
   "execution_count": null,
   "metadata": {},
   "outputs": [],
   "source": [
    "#@title Colab-ssh tunnel\n",
    "#@markdown Execute this cell to open the ssh tunnel. Check [colab-ssh documentation](https://github.com/WassimBenzarti/colab-ssh) for more details.\n",
    "\n",
    "# Install colab_ssh on google colab\n",
    "!pip install colab_ssh --upgrade -q\n",
    "\n",
    "from colab_ssh import launch_ssh_cloudflared, init_git_cloudflared\n",
    "ssh_tunnel_password = \"1234\" #@param {type: \"string\"}\n",
    "launch_ssh_cloudflared(password=ssh_tunnel_password)\n",
    "\n",
    "# Make sure to change the path to your own file\n",
    "gdrive_path = \"/content/gdrive/MyDrive\"\n",
    "git_config_file = \"COMP550-NLP/Project/git_config.json\" #@param {type: \"string\"}\n",
    "\n",
    "import os\n",
    "git_config_file = os.path.join(gdrive_path, git_config_file)\n",
    "\n",
    "import json\n",
    "with open(git_config_file) as f:\n",
    "    git_config = json.load(f)\n",
    "\n",
    "init_git_cloudflared(\n",
    "    \"https://github.com/MrJangoBox/comp-550-project.git\",\n",
    "    personal_token=git_config[\"personal_token\"],\n",
    "    branch=git_config[\"branch\"],\n",
    "    email=git_config[\"email\"],\n",
    "    username=git_config[\"username\"]\n",
    ")\n",
    "\n",
    "!pip install -r /content/comp-550-project/requirements.txt -q"
   ]
  }
 ],
 "metadata": {
  "interpreter": {
   "hash": "15a40e11aa3c948f13537918da56f072f38172adfb7dc644365435d0134178e7"
  },
  "kernelspec": {
   "display_name": "Python 3.9.7 64-bit ('comp-550-a2-venv': conda)",
   "language": "python",
   "name": "python3"
  },
  "language_info": {
   "name": "python",
   "version": "3.9.7"
  },
  "orig_nbformat": 4
 },
 "nbformat": 4,
 "nbformat_minor": 2
}
